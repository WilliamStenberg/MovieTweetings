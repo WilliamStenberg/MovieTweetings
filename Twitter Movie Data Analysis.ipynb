{
 "cells": [
  {
   "cell_type": "markdown",
   "metadata": {},
   "source": [
    "We have a Twitter Movie Ratings dataset, \n",
    "* movies (with IMDB id, title and year, and genre tags)\n",
    "* users (connection to real Twitter ID. We don't use handle because it can change, but lookup through tweeterid.com is possible)\n",
    "* ratings (user-movie edge, rated 1-10 with timestamp).\n",
    "\n",
    "For each movie, we can compute its average score. Hopefully, we can find some correlations between movie properties and scores."
   ]
  },
  {
   "cell_type": "code",
   "execution_count": null,
   "metadata": {},
   "outputs": [],
   "source": [
    "import pandas as pd\n",
    "\n",
    "DIR = 'snapshots/10K/'\n",
    "#DIR = 'latest/'\n",
    "\n",
    "movies_frame = pd.read_csv(DIR + 'movies.dat', sep='::', engine='python',\n",
    "                          names=['movie_id', 'title_and_year', 'bar_sep_genres']).dropna()\n",
    "\n",
    "users_frame = pd.read_csv(DIR + 'users.dat', sep='::', engine='python',\n",
    "                          names=['user_id', 'twitter_id']).dropna()\n",
    "\n",
    "ratings_frame = pd.read_csv(DIR + 'ratings.dat', sep='::', engine='python',\n",
    "                          names=['user_id', 'movie_id', 'rating', 'timestamp']).dropna()\n"
   ]
  },
  {
   "cell_type": "markdown",
   "metadata": {},
   "source": [
    "Examining the data"
   ]
  },
  {
   "cell_type": "code",
   "execution_count": null,
   "metadata": {
    "scrolled": true
   },
   "outputs": [],
   "source": [
    "print(movies_frame.count())\n",
    "movies_frame[:5]"
   ]
  },
  {
   "cell_type": "markdown",
   "metadata": {},
   "source": [
    "These are movies with data from IMDB, tags are separated by bars. We think the genres are relevant to a user's rating of a film, so we want to represent the set of genres more clearly. As a first question, how many different genres exists in the movie set?"
   ]
  },
  {
   "cell_type": "code",
   "execution_count": null,
   "metadata": {},
   "outputs": [],
   "source": [
    "# demonstrating Pandas string splitter,\n",
    "# Here \"Crime|Drama\" -> [\"Crime\", \"Drama\"]\n",
    "movies_frame['bar_sep_genres'].str.split('|')[170:180]"
   ]
  },
  {
   "cell_type": "code",
   "execution_count": null,
   "metadata": {},
   "outputs": [],
   "source": [
    "import numpy as np\n",
    "from functools import reduce  # Used to combine rows\n",
    "tag_lists = np.array(movies_frame['bar_sep_genres'].str.split('|'))\n",
    "# removing NaN element from empty tag strings using 't == t'\n",
    "unique_tags = reduce(set().union, [t for t in tag_lists if t == t], set())\n",
    "print(unique_tags)\n",
    "print(len(unique_tags))\n"
   ]
  },
  {
   "cell_type": "markdown",
   "metadata": {},
   "source": [
    "With relatively few genres, we can one-hot encode them all into a frame for later."
   ]
  },
  {
   "cell_type": "code",
   "execution_count": null,
   "metadata": {
    "scrolled": true
   },
   "outputs": [],
   "source": [
    "genre_ohe_frame = pd.get_dummies(\n",
    "    movies_frame['bar_sep_genres'].str.split('|')\n",
    "    .apply(pd.Series).stack()\n",
    ").sum(level=0)\n",
    "# Showing that genre_ohe_frame now contains an appropriate enconding\n",
    "pd.DataFrame(movies_frame['bar_sep_genres']).join(genre_ohe_frame)[:5]"
   ]
  },
  {
   "cell_type": "markdown",
   "metadata": {},
   "source": [
    "The year of the movie is also an interesting feature. However, we can transform it to its age."
   ]
  },
  {
   "cell_type": "code",
   "execution_count": null,
   "metadata": {},
   "outputs": [],
   "source": [
    "from datetime import date\n",
    "current_year = date.today().year  # 2019\n",
    "movie_ages = list()\n",
    "for name in movies_frame['title_and_year']:\n",
    "    # Using that the name strings end in \" (xxxx)\" to extract year string \"xxxx\"\n",
    "    year_string = name[-5:-1]\n",
    "    age = current_year - int(year_string)\n",
    "    movie_ages.append(age/100)\n",
    "\n",
    "movie_ages = pd.DataFrame(movie_ages, columns=['age'])\n",
    "# Resetting indices before joining eliminates risk for NaN:s\n",
    "movie_ages.reset_index(drop=True, inplace=True)\n",
    "movies_frame.reset_index(drop=True, inplace=True)\n",
    "\n",
    "# Showing that age is properly computed\n",
    "pd.DataFrame(movies_frame['title_and_year']).join(movie_ages)[-4:]"
   ]
  },
  {
   "cell_type": "markdown",
   "metadata": {},
   "source": [
    "We can now join our features to one set describing the movie:"
   ]
  },
  {
   "cell_type": "code",
   "execution_count": null,
   "metadata": {
    "scrolled": true
   },
   "outputs": [],
   "source": [
    "\n",
    "genre_ohe_frame.reset_index(drop=True, inplace=True)\n",
    "\n",
    "movie_features = movie_ages.join(genre_ohe_frame)\n",
    "\n",
    "movie_features[:5]"
   ]
  },
  {
   "cell_type": "markdown",
   "metadata": {},
   "source": [
    "What we want to predict for the movies is their rating, as given by people through tweets. It is time to look at our other files: _users_ and _ratings_."
   ]
  },
  {
   "cell_type": "code",
   "execution_count": null,
   "metadata": {},
   "outputs": [],
   "source": [
    "print(users_frame.count())\n",
    "users_frame[:5]"
   ]
  },
  {
   "cell_type": "code",
   "execution_count": null,
   "metadata": {},
   "outputs": [],
   "source": [
    "print(ratings_frame.count())\n",
    "ratings_frame[:5]"
   ]
  },
  {
   "cell_type": "code",
   "execution_count": null,
   "metadata": {},
   "outputs": [],
   "source": [
    "import datetime\n",
    "ratings_frame['date'] = ratings_frame['timestamp'].apply(datetime.date.fromtimestamp)\n",
    "period_start = datetime.date.fromisoformat('2013-01-01')\n",
    "period_end = datetime.date.fromisoformat('2014-01-01')\n",
    "ratings_period = ratings_frame[ratings_frame['date'].between(period_start, period_end)]\n",
    "max(ratings_frame['date'])"
   ]
  },
  {
   "cell_type": "markdown",
   "metadata": {},
   "source": [
    "The only use we can have of _users_ is if we want to look up their real-life Twitter handle. Since we are not interested in individual users, we can ignore this frame entirely.\n",
    "\n",
    "In the _ratings_ frame, we want to look at which rating was given to which movie. Since there may be many ratings on a single movie, we have choose some way to compute its \"score\", or final rating. One way, the obvious, is the arithmetic mean."
   ]
  },
  {
   "cell_type": "code",
   "execution_count": null,
   "metadata": {},
   "outputs": [],
   "source": [
    "movie_ratings = list()\n",
    "# This computation may take a while...\n",
    "for movie_id in movies_frame['movie_id']:\n",
    "    ratings = ratings_period[ratings_period['movie_id'] == movie_id]\n",
    "    if ratings.empty:\n",
    "        averaged = 5\n",
    "    else:\n",
    "        averaged = ratings['rating'].mean()\n",
    "    movie_ratings.append(averaged)\n",
    "movie_ratings = pd.DataFrame(movie_ratings, columns=['rating'])\n",
    "\n",
    "movies_frame.join(movie_ratings)[:5]"
   ]
  },
  {
   "cell_type": "markdown",
   "metadata": {},
   "source": [
    "Now it's time to see if we can do some regression!"
   ]
  },
  {
   "cell_type": "code",
   "execution_count": null,
   "metadata": {},
   "outputs": [],
   "source": [
    "from sklearn.model_selection import train_test_split\n",
    "X = movie_features\n",
    "y = movie_ratings\n",
    "\n",
    "print(X.isna().values.any())\n",
    "\n",
    "X_train, X_test, y_train, y_test = train_test_split(\n",
    "    X, y, test_size=0.3, random_state=0)"
   ]
  },
  {
   "cell_type": "code",
   "execution_count": null,
   "metadata": {
    "scrolled": true
   },
   "outputs": [],
   "source": [
    "from sklearn.linear_model import LinearRegression\n",
    "model = LinearRegression()\n",
    "model.fit(X_train, y_train)\n",
    "\n",
    "test_score = model.score(X_test, y_test)\n",
    "train_score = model.score(X_train, y_train)\n",
    "print('Linear Regression')\n",
    "print(f'Test set accuracy: {test_score}')\n",
    "print(f'Train set accuracy: {train_score}')"
   ]
  },
  {
   "cell_type": "code",
   "execution_count": null,
   "metadata": {},
   "outputs": [],
   "source": [
    "list(zip(\n",
    "    movie_features.columns, model.coef_.flatten()))"
   ]
  },
  {
   "cell_type": "markdown",
   "metadata": {},
   "source": [
    "It is difficult to know whether this model is accurate, but at least we see that there are differences between the genres. Certain genres have higher coefficients than others (Documentary is very high, for example), but the largest influence seems to be the age.\n",
    "\n",
    "Let's create a function to plot average ratings by \"era\", a span of several years:"
   ]
  },
  {
   "cell_type": "code",
   "execution_count": null,
   "metadata": {},
   "outputs": [],
   "source": [
    "import matplotlib.pyplot as plt\n",
    "from copy import deepcopy\n",
    "def plot_rating_by_year(features_, ratings, genres, all=True):\n",
    "    bins = np.arange(min(features_['age']), max(features_['age']), 0.05)\n",
    "    features = deepcopy(features_)\n",
    "    c = pd.cut(features['age'], bins)\n",
    "    features['era'] = c\n",
    "    \n",
    "    table = ratings.join(features)\n",
    "    \n",
    "    fig, ax = plt.subplots()\n",
    "    plt.axis((1900,2020,4,10))\n",
    "    if all:\n",
    "        mean_ratings = table.groupby('era')['rating'].mean()    \n",
    "        ax.plot(2019 - bins[:-1]*100, mean_ratings, label='All')\n",
    "    \n",
    "    for genre in genres:\n",
    "        movie_subset = table[table[genre] == 1]\n",
    "        #print(table)\n",
    "        mean_ratings = movie_subset.groupby('era')['rating'].mean()\n",
    "        \n",
    "        ax.plot(2019 - bins[:-1]*100, mean_ratings, label=genre)\n",
    "    ax.legend(bbox_to_anchor=(1.5, 1))\n",
    "plot_rating_by_year(movie_features, movie_ratings, ['Documentary', 'Animation'], all=False)\n",
    "plot_rating_by_year(movie_features, movie_ratings, ['Horror'])\n"
   ]
  },
  {
   "cell_type": "code",
   "execution_count": null,
   "metadata": {},
   "outputs": [],
   "source": []
  }
 ],
 "metadata": {
  "kernelspec": {
   "display_name": "Python 3",
   "language": "python",
   "name": "python3"
  },
  "language_info": {
   "codemirror_mode": {
    "name": "ipython",
    "version": 3
   },
   "file_extension": ".py",
   "mimetype": "text/x-python",
   "name": "python",
   "nbconvert_exporter": "python",
   "pygments_lexer": "ipython3",
   "version": "3.7.3"
  }
 },
 "nbformat": 4,
 "nbformat_minor": 2
}
