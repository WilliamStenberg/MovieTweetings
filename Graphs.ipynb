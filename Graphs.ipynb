{
 "cells": [
  {
   "cell_type": "markdown",
   "metadata": {},
   "source": [
    "We have a Twitter Movie Ratings dataset, \n",
    "* movies (with IMDB id, title and year, and genre tags)\n",
    "* users (connection to real Twitter ID. We don't use handle because it can change, but lookup through tweeterid.com is possible)\n",
    "* ratings (user-movie edge, rated 1-10 with timestamp).\n"
   ]
  },
  {
   "cell_type": "code",
   "execution_count": 1,
   "metadata": {},
   "outputs": [],
   "source": [
    "import pandas as pd\n",
    "\n",
    "DIR = 'snapshots/10K/'\n",
    "#DIR = 'latest/'\n",
    "\n",
    "movies_frame = pd.read_csv(DIR + 'movies.dat', sep='::', engine='python',\n",
    "                          names=['movie_id', 'title_and_year', 'bar_sep_genres']).dropna()\n",
    "\n",
    "users_frame = pd.read_csv(DIR + 'users.dat', sep='::', engine='python',\n",
    "                          names=['user_id', 'twitter_id']).dropna()\n",
    "\n",
    "ratings_frame = pd.read_csv(DIR + 'ratings.dat', sep='::', engine='python',\n",
    "                          names=['user_id', 'movie_id', 'rating', 'timestamp']).dropna()\n"
   ]
  },
  {
   "cell_type": "markdown",
   "metadata": {},
   "source": [
    "Examining the data"
   ]
  },
  {
   "cell_type": "code",
   "execution_count": 2,
   "metadata": {
    "scrolled": true
   },
   "outputs": [
    {
     "name": "stdout",
     "output_type": "stream",
     "text": [
      "movie_id          3082\n",
      "title_and_year    3082\n",
      "bar_sep_genres    3082\n",
      "dtype: int64\n"
     ]
    },
    {
     "data": {
      "text/html": [
       "<div>\n",
       "<style scoped>\n",
       "    .dataframe tbody tr th:only-of-type {\n",
       "        vertical-align: middle;\n",
       "    }\n",
       "\n",
       "    .dataframe tbody tr th {\n",
       "        vertical-align: top;\n",
       "    }\n",
       "\n",
       "    .dataframe thead th {\n",
       "        text-align: right;\n",
       "    }\n",
       "</style>\n",
       "<table border=\"1\" class=\"dataframe\">\n",
       "  <thead>\n",
       "    <tr style=\"text-align: right;\">\n",
       "      <th></th>\n",
       "      <th>movie_id</th>\n",
       "      <th>title_and_year</th>\n",
       "      <th>bar_sep_genres</th>\n",
       "    </tr>\n",
       "  </thead>\n",
       "  <tbody>\n",
       "    <tr>\n",
       "      <th>0</th>\n",
       "      <td>2844</td>\n",
       "      <td>Fantômas - À l'ombre de la guillotine (1913)</td>\n",
       "      <td>Crime|Drama</td>\n",
       "    </tr>\n",
       "    <tr>\n",
       "      <th>1</th>\n",
       "      <td>7264</td>\n",
       "      <td>The Rink (1916)</td>\n",
       "      <td>Comedy|Short</td>\n",
       "    </tr>\n",
       "    <tr>\n",
       "      <th>2</th>\n",
       "      <td>8133</td>\n",
       "      <td>The Immigrant (1917)</td>\n",
       "      <td>Short|Comedy|Drama|Romance</td>\n",
       "    </tr>\n",
       "    <tr>\n",
       "      <th>3</th>\n",
       "      <td>12349</td>\n",
       "      <td>The Kid (1921)</td>\n",
       "      <td>Comedy|Drama|Family</td>\n",
       "    </tr>\n",
       "    <tr>\n",
       "      <th>4</th>\n",
       "      <td>13427</td>\n",
       "      <td>Nanook of the North (1922)</td>\n",
       "      <td>Documentary</td>\n",
       "    </tr>\n",
       "  </tbody>\n",
       "</table>\n",
       "</div>"
      ],
      "text/plain": [
       "   movie_id                                title_and_year  \\\n",
       "0      2844  Fantômas - À l'ombre de la guillotine (1913)   \n",
       "1      7264                               The Rink (1916)   \n",
       "2      8133                          The Immigrant (1917)   \n",
       "3     12349                                The Kid (1921)   \n",
       "4     13427                    Nanook of the North (1922)   \n",
       "\n",
       "               bar_sep_genres  \n",
       "0                 Crime|Drama  \n",
       "1                Comedy|Short  \n",
       "2  Short|Comedy|Drama|Romance  \n",
       "3         Comedy|Drama|Family  \n",
       "4                 Documentary  "
      ]
     },
     "execution_count": 2,
     "metadata": {},
     "output_type": "execute_result"
    }
   ],
   "source": [
    "print(movies_frame.count())\n",
    "movies_frame[:5]"
   ]
  },
  {
   "cell_type": "markdown",
   "metadata": {},
   "source": [
    "These are movies with data from IMDB, tags are separated by bars."
   ]
  },
  {
   "cell_type": "code",
   "execution_count": 3,
   "metadata": {},
   "outputs": [
    {
     "name": "stdout",
     "output_type": "stream",
     "text": [
      "user_id       3794\n",
      "twitter_id    3794\n",
      "dtype: int64\n"
     ]
    },
    {
     "data": {
      "text/html": [
       "<div>\n",
       "<style scoped>\n",
       "    .dataframe tbody tr th:only-of-type {\n",
       "        vertical-align: middle;\n",
       "    }\n",
       "\n",
       "    .dataframe tbody tr th {\n",
       "        vertical-align: top;\n",
       "    }\n",
       "\n",
       "    .dataframe thead th {\n",
       "        text-align: right;\n",
       "    }\n",
       "</style>\n",
       "<table border=\"1\" class=\"dataframe\">\n",
       "  <thead>\n",
       "    <tr style=\"text-align: right;\">\n",
       "      <th></th>\n",
       "      <th>user_id</th>\n",
       "      <th>twitter_id</th>\n",
       "    </tr>\n",
       "  </thead>\n",
       "  <tbody>\n",
       "    <tr>\n",
       "      <th>0</th>\n",
       "      <td>1</td>\n",
       "      <td>177651718</td>\n",
       "    </tr>\n",
       "    <tr>\n",
       "      <th>1</th>\n",
       "      <td>2</td>\n",
       "      <td>103607473</td>\n",
       "    </tr>\n",
       "    <tr>\n",
       "      <th>2</th>\n",
       "      <td>3</td>\n",
       "      <td>288317450</td>\n",
       "    </tr>\n",
       "    <tr>\n",
       "      <th>3</th>\n",
       "      <td>4</td>\n",
       "      <td>68640782</td>\n",
       "    </tr>\n",
       "    <tr>\n",
       "      <th>4</th>\n",
       "      <td>5</td>\n",
       "      <td>199219885</td>\n",
       "    </tr>\n",
       "  </tbody>\n",
       "</table>\n",
       "</div>"
      ],
      "text/plain": [
       "   user_id  twitter_id\n",
       "0        1   177651718\n",
       "1        2   103607473\n",
       "2        3   288317450\n",
       "3        4    68640782\n",
       "4        5   199219885"
      ]
     },
     "execution_count": 3,
     "metadata": {},
     "output_type": "execute_result"
    }
   ],
   "source": [
    "print(users_frame.count())\n",
    "users_frame[:5]"
   ]
  },
  {
   "cell_type": "code",
   "execution_count": 4,
   "metadata": {},
   "outputs": [
    {
     "name": "stdout",
     "output_type": "stream",
     "text": [
      "user_id      10000\n",
      "movie_id     10000\n",
      "rating       10000\n",
      "timestamp    10000\n",
      "dtype: int64\n"
     ]
    },
    {
     "data": {
      "text/html": [
       "<div>\n",
       "<style scoped>\n",
       "    .dataframe tbody tr th:only-of-type {\n",
       "        vertical-align: middle;\n",
       "    }\n",
       "\n",
       "    .dataframe tbody tr th {\n",
       "        vertical-align: top;\n",
       "    }\n",
       "\n",
       "    .dataframe thead th {\n",
       "        text-align: right;\n",
       "    }\n",
       "</style>\n",
       "<table border=\"1\" class=\"dataframe\">\n",
       "  <thead>\n",
       "    <tr style=\"text-align: right;\">\n",
       "      <th></th>\n",
       "      <th>user_id</th>\n",
       "      <th>movie_id</th>\n",
       "      <th>rating</th>\n",
       "      <th>timestamp</th>\n",
       "    </tr>\n",
       "  </thead>\n",
       "  <tbody>\n",
       "    <tr>\n",
       "      <th>0</th>\n",
       "      <td>1</td>\n",
       "      <td>120735</td>\n",
       "      <td>9</td>\n",
       "      <td>1363245118</td>\n",
       "    </tr>\n",
       "    <tr>\n",
       "      <th>1</th>\n",
       "      <td>2</td>\n",
       "      <td>2592910</td>\n",
       "      <td>10</td>\n",
       "      <td>1362901837</td>\n",
       "    </tr>\n",
       "    <tr>\n",
       "      <th>2</th>\n",
       "      <td>3</td>\n",
       "      <td>1924396</td>\n",
       "      <td>8</td>\n",
       "      <td>1363566189</td>\n",
       "    </tr>\n",
       "    <tr>\n",
       "      <th>3</th>\n",
       "      <td>4</td>\n",
       "      <td>887912</td>\n",
       "      <td>8</td>\n",
       "      <td>1363557326</td>\n",
       "    </tr>\n",
       "    <tr>\n",
       "      <th>4</th>\n",
       "      <td>5</td>\n",
       "      <td>1182350</td>\n",
       "      <td>7</td>\n",
       "      <td>1362869000</td>\n",
       "    </tr>\n",
       "  </tbody>\n",
       "</table>\n",
       "</div>"
      ],
      "text/plain": [
       "   user_id  movie_id  rating   timestamp\n",
       "0        1    120735       9  1363245118\n",
       "1        2   2592910      10  1362901837\n",
       "2        3   1924396       8  1363566189\n",
       "3        4    887912       8  1363557326\n",
       "4        5   1182350       7  1362869000"
      ]
     },
     "execution_count": 4,
     "metadata": {},
     "output_type": "execute_result"
    }
   ],
   "source": [
    "print(ratings_frame.count())\n",
    "ratings_frame[:5]"
   ]
  },
  {
   "cell_type": "code",
   "execution_count": 5,
   "metadata": {},
   "outputs": [],
   "source": [
    "# Converting UNIX timestamp to more handy format\n",
    "import datetime\n",
    "ratings_frame['timestamp'] = ratings_frame['timestamp'].apply(datetime.date.fromtimestamp)\n"
   ]
  },
  {
   "cell_type": "markdown",
   "metadata": {},
   "source": [
    "The only use we can have of _users_ is if we want to look up their real-life Twitter handle. Since we are not interested in individual users, we can ignore this frame entirely.\n",
    "\n",
    "We will now start a graph-based analysis of the dataset."
   ]
  },
  {
   "cell_type": "code",
   "execution_count": 6,
   "metadata": {},
   "outputs": [
    {
     "data": {
      "text/html": [
       "<div>\n",
       "<style scoped>\n",
       "    .dataframe tbody tr th:only-of-type {\n",
       "        vertical-align: middle;\n",
       "    }\n",
       "\n",
       "    .dataframe tbody tr th {\n",
       "        vertical-align: top;\n",
       "    }\n",
       "\n",
       "    .dataframe thead th {\n",
       "        text-align: right;\n",
       "    }\n",
       "</style>\n",
       "<table border=\"1\" class=\"dataframe\">\n",
       "  <thead>\n",
       "    <tr style=\"text-align: right;\">\n",
       "      <th></th>\n",
       "      <th>user_id</th>\n",
       "      <th>movie_id</th>\n",
       "      <th>rating</th>\n",
       "      <th>timestamp</th>\n",
       "    </tr>\n",
       "  </thead>\n",
       "  <tbody>\n",
       "    <tr>\n",
       "      <th>0</th>\n",
       "      <td>u1</td>\n",
       "      <td>m120735</td>\n",
       "      <td>9</td>\n",
       "      <td>2013-03-14</td>\n",
       "    </tr>\n",
       "    <tr>\n",
       "      <th>1</th>\n",
       "      <td>u2</td>\n",
       "      <td>m2592910</td>\n",
       "      <td>10</td>\n",
       "      <td>2013-03-10</td>\n",
       "    </tr>\n",
       "    <tr>\n",
       "      <th>2</th>\n",
       "      <td>u3</td>\n",
       "      <td>m1924396</td>\n",
       "      <td>8</td>\n",
       "      <td>2013-03-18</td>\n",
       "    </tr>\n",
       "    <tr>\n",
       "      <th>3</th>\n",
       "      <td>u4</td>\n",
       "      <td>m887912</td>\n",
       "      <td>8</td>\n",
       "      <td>2013-03-17</td>\n",
       "    </tr>\n",
       "    <tr>\n",
       "      <th>4</th>\n",
       "      <td>u5</td>\n",
       "      <td>m1182350</td>\n",
       "      <td>7</td>\n",
       "      <td>2013-03-09</td>\n",
       "    </tr>\n",
       "  </tbody>\n",
       "</table>\n",
       "</div>"
      ],
      "text/plain": [
       "  user_id  movie_id  rating   timestamp\n",
       "0      u1   m120735       9  2013-03-14\n",
       "1      u2  m2592910      10  2013-03-10\n",
       "2      u3  m1924396       8  2013-03-18\n",
       "3      u4   m887912       8  2013-03-17\n",
       "4      u5  m1182350       7  2013-03-09"
      ]
     },
     "execution_count": 6,
     "metadata": {},
     "output_type": "execute_result"
    }
   ],
   "source": [
    "# Transforming ID:s in ratings DataFrame \n",
    "# to distinguish movies and users\n",
    "ratings_frame['movie_id'] = 'm' + ratings_frame['movie_id'].astype(str)\n",
    "ratings_frame['user_id'] = 'u' + ratings_frame['user_id'].astype(str)\n",
    "ratings_frame[:5]"
   ]
  },
  {
   "cell_type": "code",
   "execution_count": 7,
   "metadata": {},
   "outputs": [],
   "source": [
    "import networkx as nx\n",
    "\n",
    "G = nx.from_pandas_edgelist(\n",
    "    ratings_frame,\n",
    "    source='user_id',\n",
    "    target='movie_id',\n",
    "    edge_attr=True,\n",
    "    create_using=nx.DiGraph)"
   ]
  },
  {
   "cell_type": "markdown",
   "metadata": {},
   "source": [
    "Visualizing a small part of the graph:"
   ]
  },
  {
   "cell_type": "code",
   "execution_count": 8,
   "metadata": {},
   "outputs": [
    {
     "name": "stdout",
     "output_type": "stream",
     "text": [
      "{'m120735': 'Lock, Stock and Two Smoking Barrels (1998)', 'u1': 'User u1', 'u466': 'User u466', 'u1575': 'User u1575', 'u2028': 'User u2028'}\n",
      "\n"
     ]
    },
    {
     "name": "stderr",
     "output_type": "stream",
     "text": [
      "/opt/anaconda/lib/python3.7/site-packages/networkx/drawing/nx_pylab.py:579: MatplotlibDeprecationWarning: \n",
      "The iterable function was deprecated in Matplotlib 3.1 and will be removed in 3.3. Use np.iterable instead.\n",
      "  if not cb.iterable(width):\n",
      "/opt/anaconda/lib/python3.7/site-packages/networkx/drawing/nx_pylab.py:676: MatplotlibDeprecationWarning: \n",
      "The iterable function was deprecated in Matplotlib 3.1 and will be removed in 3.3. Use np.iterable instead.\n",
      "  if cb.iterable(node_size):  # many node sizes\n"
     ]
    },
    {
     "data": {
      "image/png": "[encoded data removed]",
      "text/plain": [
       "<Figure size 432x288 with 1 Axes>"
      ]
     },
     "metadata": {},
     "output_type": "display_data"
    }
   ],
   "source": [
    "%matplotlib inline\n",
    "import matplotlib.pyplot as plt\n",
    "plt.axis('off')\n",
    "\n",
    "user_ids = []\n",
    "movie_ids = []\n",
    "for node in G.nodes:\n",
    "    # Skip until first movie with many ratings\n",
    "    if node[0] != 'm' or nx.degree(G, node) < 3:\n",
    "        continue\n",
    "    movie_ids.append(node)\n",
    "    # Incoming edges, reversed neighbors\n",
    "    user_ids += nx.neighbors(nx.reverse_view(G), node)\n",
    "    break\n",
    "\n",
    "subG = nx.subgraph(G, user_ids + movie_ids)\n",
    "p = nx.spring_layout(subG)\n",
    "\n",
    "node_labels = {mid: list(movies_frame[movies_frame['movie_id'] == int(mid[1:])]['title_and_year'])[0] \n",
    "               for mid in movie_ids}\n",
    "node_labels.update({uid: 'User {}'.format(uid) for uid in user_ids})\n",
    "\n",
    "print(node_labels)\n",
    "nx.draw_networkx(subG, pos=p, labels=node_labels)\n",
    "label_dict = subG.edges\n",
    "first = list(subG.edges)[0]\n",
    "edge_ratings = nx.get_edge_attributes(subG, 'rating')\n",
    "nx.draw_networkx_edge_labels(subG, pos=p, edge_labels=edge_ratings)\n",
    "#plt.show()\n",
    "print()"
   ]
  }
 ],
 "metadata": {
  "kernelspec": {
   "display_name": "Python 3",
   "language": "python",
   "name": "python3"
  },
  "language_info": {
   "codemirror_mode": {
    "name": "ipython",
    "version": 3
   },
   "file_extension": ".py",
   "mimetype": "text/x-python",
   "name": "python",
   "nbconvert_exporter": "python",
   "pygments_lexer": "ipython3",
   "version": "3.7.3"
  }
 },
 "nbformat": 4,
 "nbformat_minor": 2
}
